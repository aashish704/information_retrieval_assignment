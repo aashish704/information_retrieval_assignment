{
 "cells": [
  {
   "cell_type": "markdown",
   "id": "90a45457",
   "metadata": {},
   "source": [
    " # import required libraries"
   ]
  },
  {
   "cell_type": "code",
   "execution_count": 1,
   "id": "40c7578a",
   "metadata": {},
   "outputs": [],
   "source": [
    "import pandas as pd\n",
    "from sklearn.feature_extraction.text import TfidfVectorizer\n",
    "from sklearn.cluster import KMeans\n",
    "import tkinter as tk\n",
    "from tkinter.scrolledtext import ScrolledText\n",
    "from datasets import load_dataset"
   ]
  },
  {
   "cell_type": "markdown",
   "id": "601b7a43",
   "metadata": {},
   "source": [
    "# import news-data and split into train and test"
   ]
  },
  {
   "cell_type": "code",
   "execution_count": 2,
   "id": "45666e40",
   "metadata": {},
   "outputs": [],
   "source": [
    "dataset = load_dataset(\"okite97/news-data\")\n",
    "news_df = pd.DataFrame(dataset['train'])"
   ]
  },
  {
   "cell_type": "markdown",
   "id": "95757b30",
   "metadata": {},
   "source": [
    "# data cleaning"
   ]
  },
  {
   "cell_type": "code",
   "execution_count": 3,
   "id": "37547d1a",
   "metadata": {},
   "outputs": [
    {
     "name": "stdout",
     "output_type": "stream",
     "text": [
      "                                               Title  \\\n",
      "0  Uefa Opens Proceedings against Barcelona, Juve...   \n",
      "1  Amazon Blames Inflation as It Increases Cost o...   \n",
      "2  Nigeria’s Parliament Passes Amended Electoral ...   \n",
      "3  Nigeria: Lagos Governor Tests Positive for Cov...   \n",
      "4  South Africa Calls For Calm as Electoral Refor...   \n",
      "\n",
      "                                             Excerpt  Category  \n",
      "0  Uefa has opened disciplinary proceedings again...    sports  \n",
      "1  The increases are steeper than the 17 percent ...  business  \n",
      "2  Nigeria's Senate on Tuesday passed the harmoni...  politics  \n",
      "3  The Lagos State Governor, Mr. Babajide Sanwo-O...    health  \n",
      "4  South Africa has raised concerns about the det...  politics  \n"
     ]
    }
   ],
   "source": [
    "news_df = news_df.dropna(subset=['Title', 'Excerpt'])\n",
    "print(news_df.head())"
   ]
  },
  {
   "cell_type": "markdown",
   "id": "d8219054",
   "metadata": {},
   "source": [
    "# text verctorizer"
   ]
  },
  {
   "cell_type": "code",
   "execution_count": 4,
   "id": "39af4eb7",
   "metadata": {},
   "outputs": [],
   "source": [
    "text_vectorizer = TfidfVectorizer(max_df=0.5, min_df=2, \n",
    "                                  stop_words='english', use_idf=True)\n",
    "tfidf_news = text_vectorizer.fit_transform(news_df['Title'] + ' ' + news_df['Excerpt'])"
   ]
  },
  {
   "cell_type": "markdown",
   "id": "6f29ff09",
   "metadata": {},
   "source": [
    "# create cluster"
   ]
  },
  {
   "cell_type": "code",
   "execution_count": 5,
   "id": "279f3b6b",
   "metadata": {},
   "outputs": [
    {
     "data": {
      "text/plain": [
       "KMeans(n_clusters=3, random_state=42)"
      ]
     },
     "execution_count": 5,
     "metadata": {},
     "output_type": "execute_result"
    }
   ],
   "source": [
    "n_clusters = 3\n",
    "news_clusters = KMeans(n_clusters=n_clusters, random_state=42)\n",
    "news_clusters.fit(tfidf_news)"
   ]
  },
  {
   "cell_type": "markdown",
   "id": "6ffa91b9",
   "metadata": {},
   "source": [
    "# predict cluster"
   ]
  },
  {
   "cell_type": "code",
   "execution_count": 6,
   "id": "cfd55664",
   "metadata": {},
   "outputs": [],
   "source": [
    "def predict_news_cluster(news_text):\n",
    "    input_vector = text_vectorizer.transform([news_text])\n",
    "    predicted_cluster = news_clusters.predict(input_vector)[0]\n",
    "    predicted_category = news_df.iloc[predicted_cluster]['Category']\n",
    "    return predicted_cluster, predicted_category"
   ]
  },
  {
   "cell_type": "markdown",
   "id": "c36b78a8",
   "metadata": {},
   "source": [
    "# cluster prediction"
   ]
  },
  {
   "cell_type": "code",
   "execution_count": 7,
   "id": "51fe7e13",
   "metadata": {},
   "outputs": [
    {
     "name": "stdout",
     "output_type": "stream",
     "text": [
      "Predicted Cluster number : 0\n",
      "Predicted Cluster Category: sports\n",
      "Predicted Cluster number : 1\n",
      "Predicted Cluster Category: business\n"
     ]
    }
   ],
   "source": [
    "window = tk.Tk()\n",
    "window.title(\"News Clustering\")\n",
    "window.minsize(600, 400) \n",
    "\n",
    "news_textbox = ScrolledText(window)\n",
    "news_textbox.grid(row=0, column=0, padx=5, pady=5, sticky=\"nsew\")\n",
    "\n",
    "predicted_cluster_label = tk.Label(window, text=\"Predicted Cluster:\")\n",
    "predicted_cluster_label.grid(row=1, column=0, padx=5, pady=5, sticky=\"w\")\n",
    "\n",
    "predicted_category_label = tk.Label(window, text=\"Predicted Category:\")  \n",
    "predicted_category_label.grid(row=2, column=0, padx=5, pady=5, sticky=\"w\")\n",
    "\n",
    "def predict_and_display():\n",
    "    news_text = news_textbox.get(\"1.0\", tk.END)   \n",
    "    predicted_cluster, predicted_category = predict_news_cluster(news_text)\n",
    "    predicted_cluster_label.config(text=f\"Predicted Cluster: {predicted_cluster}\") \n",
    "    predicted_category_label.config(text=f\"Predicted Category: {predicted_category}\")\n",
    "    \n",
    "    print(\"Predicted Cluster number :\", predicted_cluster)\n",
    "    print(\"Predicted Cluster Category:\", predicted_category)\n",
    "      \n",
    "# Tkinter GUI components\n",
    "predict_button = tk.Button(window, text=\"Predict Cluster\", command=predict_and_display)\n",
    "predict_button.grid(row=3, column=0, padx=5, pady=5)\n",
    "   \n",
    "window.mainloop()"
   ]
  },
  {
   "cell_type": "code",
   "execution_count": null,
   "id": "cf3b34d8",
   "metadata": {},
   "outputs": [],
   "source": []
  },
  {
   "cell_type": "code",
   "execution_count": null,
   "id": "730565f6",
   "metadata": {},
   "outputs": [],
   "source": []
  }
 ],
 "metadata": {
  "kernelspec": {
   "display_name": "Python 3 (ipykernel)",
   "language": "python",
   "name": "python3"
  },
  "language_info": {
   "codemirror_mode": {
    "name": "ipython",
    "version": 3
   },
   "file_extension": ".py",
   "mimetype": "text/x-python",
   "name": "python",
   "nbconvert_exporter": "python",
   "pygments_lexer": "ipython3",
   "version": "3.9.13"
  }
 },
 "nbformat": 4,
 "nbformat_minor": 5
}
